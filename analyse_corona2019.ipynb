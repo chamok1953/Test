{
  "nbformat": 4,
  "nbformat_minor": 0,
  "metadata": {
    "colab": {
      "provenance": [],
      "authorship_tag": "ABX9TyN8bjDnlTUFi7JkNtHUZ7NM",
      "include_colab_link": true
    },
    "kernelspec": {
      "name": "python3",
      "display_name": "Python 3"
    },
    "language_info": {
      "name": "python"
    }
  },
  "cells": [
    {
      "cell_type": "markdown",
      "metadata": {
        "id": "view-in-github",
        "colab_type": "text"
      },
      "source": [
        "<a href=\"https://colab.research.google.com/github/chamok1953/Test/blob/main/analyse_corona2019.ipynb\" target=\"_parent\"><img src=\"https://colab.research.google.com/assets/colab-badge.svg\" alt=\"Open In Colab\"/></a>"
      ]
    },
    {
      "cell_type": "code",
      "execution_count": 7,
      "metadata": {
        "id": "j0TV-Oe6TouP"
      },
      "outputs": [],
      "source": [
        "import pandas as pd\n",
        "import numpy as np\n",
        "import matplotlib.pyplot as plt\n",
        "\n"
      ]
    },
    {
      "cell_type": "code",
      "source": [
        "from pandas.io.parsers.readers import read_csv\n",
        "confirme_df=pd.read_csv('https://raw.githubusercontent.com/CSSEGISandData/COVID-19/master/archived_data/archived_time_series/time_series_19-covid-Confirmed_archived_0325.csv')\n",
        "# death_df=pd.read_csv('archived_data/archived_time_series/time_series_19-covid-Deaths_archived_0325.csv')\n",
        "# retably_df=pd.read_csv('archived_data/archived_time_series/time_series_19-covid-Recovered_archived_0325.csv')"
      ],
      "metadata": {
        "id": "YF1Yr59MGh2K"
      },
      "execution_count": 12,
      "outputs": []
    },
    {
      "cell_type": "code",
      "source": [
        "print(confirme_df)\n"
      ],
      "metadata": {
        "colab": {
          "base_uri": "https://localhost:8080/"
        },
        "id": "HdjeKSnXQTBV",
        "outputId": "2131c4e2-7c41-4996-af09-ff1627ad7729"
      },
      "execution_count": 13,
      "outputs": [
        {
          "output_type": "stream",
          "name": "stdout",
          "text": [
            "    Province/State         Country/Region      Lat      Long  1/22/20  \\\n",
            "0              NaN               Thailand  15.0000  101.0000        2   \n",
            "1              NaN                  Japan  36.0000  138.0000        2   \n",
            "2              NaN              Singapore   1.2833  103.8333        0   \n",
            "3              NaN                  Nepal  28.1667   84.2500        0   \n",
            "4              NaN               Malaysia   2.5000  112.5000        0   \n",
            "..             ...                    ...      ...       ...      ...   \n",
            "496            NaN                 Jersey  49.1900   -2.1100        0   \n",
            "497            NaN            Puerto Rico  18.2000  -66.5000        0   \n",
            "498            NaN  Republic of the Congo  -1.4400   15.5560        0   \n",
            "499            NaN            The Bahamas  24.2500  -76.0000        0   \n",
            "500            NaN             The Gambia  13.4667  -16.6000        0   \n",
            "\n",
            "     1/23/20  1/24/20  1/25/20  1/26/20  1/27/20  ...  3/14/20  3/15/20  \\\n",
            "0          3        5        7        8        8  ...       82      114   \n",
            "1          1        2        2        4        4  ...      773      839   \n",
            "2          1        3        3        4        5  ...      212      226   \n",
            "3          0        0        1        1        1  ...        1        1   \n",
            "4          0        0        3        4        4  ...      238      428   \n",
            "..       ...      ...      ...      ...      ...  ...      ...      ...   \n",
            "496        0        0        0        0        0  ...        0        0   \n",
            "497        0        0        0        0        0  ...        0        0   \n",
            "498        0        0        0        0        0  ...        0        0   \n",
            "499        0        0        0        0        0  ...        0        0   \n",
            "500        0        0        0        0        0  ...        0        0   \n",
            "\n",
            "     3/16/20  3/17/20  3/18/20  3/19/20  3/20/20  3/21/20  3/22/20  3/23/20  \n",
            "0        147      177      212      272      322      411      599    599.0  \n",
            "1        825      878      889      924      963     1007     1086   1086.0  \n",
            "2        243      266      313      345      385      432      455    455.0  \n",
            "3          1        1        1        1        1        1        2      2.0  \n",
            "4        566      673      790      900     1030     1183     1306   1306.0  \n",
            "..       ...      ...      ...      ...      ...      ...      ...      ...  \n",
            "496        0        0        0        0        0        0        0      0.0  \n",
            "497        0        0        0        0        0        0        0      0.0  \n",
            "498        0        0        0        0        0        0        0      0.0  \n",
            "499        0        0        0        0        0        0        0      0.0  \n",
            "500        0        0        0        0        0        0        0      0.0  \n",
            "\n",
            "[501 rows x 66 columns]\n"
          ]
        }
      ]
    }
  ]
}